{
 "cells": [
  {
   "cell_type": "code",
   "execution_count": null,
   "id": "64a0ad43",
   "metadata": {},
   "outputs": [],
   "source": [
    "import seaborn as sns\n",
    "sns.set_style(\"ticks\")\n",
    "sns.set_context(font_scale=1.2,context='paper')\n",
    "sns.set_context({\"figure.figsize\": (12, 12)})\n",
    "\n",
    "from msm_a7_nachrs.manuscript.manuscript import *"
   ]
  },
  {
   "cell_type": "code",
   "execution_count": null,
   "id": "aaab5943",
   "metadata": {},
   "outputs": [],
   "source": [
    "import pandas as pd\n",
    "from random import seed\n",
    "import random as rm\n",
    "import itertools\n",
    "import pyemma"
   ]
  },
  {
   "cell_type": "code",
   "execution_count": null,
   "id": "5a67ab6b",
   "metadata": {},
   "outputs": [],
   "source": [
    "import matplotlib.pyplot as plt\n",
    "import numpy as np\n",
    "\n",
    "import mdshare  # for trajectory data\n",
    "\n",
    "from tqdm.notebook import tqdm  # progress bar\n",
    "import seaborn as sns  # for plotting"
   ]
  },
  {
   "cell_type": "code",
   "execution_count": null,
   "id": "c511f6c1",
   "metadata": {},
   "outputs": [],
   "source": [
    "import deeptime\n",
    "deeptime.__version__"
   ]
  },
  {
   "cell_type": "code",
   "execution_count": null,
   "id": "0a6322c7-2294-4464-8400-aa7a7f3bd2cb",
   "metadata": {},
   "outputs": [],
   "source": [
    "class Dimer(object):\n",
    "    def __init__(self, index):\n",
    "        self.index = index\n",
    "        self._trajectory_states = []\n",
    "        self._state = self.states[0]\n",
    "    \n",
    "    def state_to_features(self):\n",
    "        if self._state == \"CC\":\n",
    "            return np.asarray([0.9, 0.1, 0.6, 0.9, 0.1, 0.6])\n",
    "        elif self._state == \"OC\":\n",
    "            return np.asarray([0.1, 0.9, 0.6, 0.9, 0.1, 0.6])\n",
    "        elif self._state == \"CO\":\n",
    "            return np.asarray([0.9, 0.1, 0.6, 0.1, 0.9, 0.6])\n",
    "        elif self._state == \"OO\":\n",
    "            return np.asarray([0.1, 0.9, 0.6, 0.1, 0.9, 0.6])\n",
    "        elif self._state == \"CD\":\n",
    "            return np.asarray([0.9, 0.1, 0.6, 0.1, 0.4, 0.6])\n",
    "        elif self._state == \"OD\":\n",
    "            return np.asarray([0.1, 0.9, 0.6, 0.1, 0.4, 0.6])\n",
    "        elif self._state == \"DC\":\n",
    "            return np.asarray([0.1, 0.4, 0.6, 0.9, 0.1, 0.6])\n",
    "        elif self._state == \"DO\":\n",
    "            return np.asarray([0.1, 0.4, 0.6, 0.1, 0.9, 0.6])\n",
    "        elif self._state == \"DD\":\n",
    "            return np.asarray([0.1, 0.4, 0.6, 0.1, 0.4, 0.6])\n",
    "            \n",
    "        \n",
    "    def run(self, step):\n",
    "        self._trajectory = np.zeros([step, 6])\n",
    "        \n",
    "        # Init state CC\n",
    "        self._state = self.states[0]\n",
    "        self._trajectory_states.append(self.state) \n",
    "        self._trajectory[0] = self.state_to_features()\n",
    "        \n",
    "        for i in range(1, step):\n",
    "            if i % 5 == 0:\n",
    "                self.propagate()\n",
    "                \n",
    "            self._trajectory_states.append(self.state) \n",
    "            self._trajectory[i] = self.state_to_features()\n",
    "\n",
    "            \n",
    "        noise = np.random.normal(0, .01, self._trajectory.shape)\n",
    "        self._trajectory = self._trajectory + noise\n",
    "        \n",
    "    @property\n",
    "    def state(self):\n",
    "        return self._state\n",
    "    \n",
    "    @property\n",
    "    def trajectory(self):\n",
    "        return self._trajectory\n",
    "    \n",
    "    @property\n",
    "    def trajectory_states(self):\n",
    "        return self._trajectory_states\n",
    "    \n",
    "    def propagate(self):\n",
    "        state_ind = self.states.index(self.state)\n",
    "        transition = np.random.choice(self.transitionName[state_ind],\n",
    "                                      replace=True,\n",
    "                                      p=self.transitionMatrix[state_ind])\n",
    "        self._state = transition.split('_')[1]\n",
    "        \n",
    "    # The statespace\n",
    "    states = [\"CC\",\"OC\",\"CO\", \"OO\", \"CD\", \"OD\", \"DC\", \"DO\", \"DD\"]\n",
    "    \n",
    "    single_states = [\"C\", \"O\", \"D\"]\n",
    "\n",
    "\n",
    "    # Possible sequences of events\n",
    "    transitionName = [[\"CC_CC\", \"CC_OC\", \"CC_CO\", \"CC_OO\", \"CC_CD\", \"CC_OD\", \"CC_DC\", \"CC_DO\", \"CC_DD\"],\n",
    "                      [\"OC_CC\", \"OC_OC\", \"OC_CO\", \"OC_OO\", \"OC_CD\", \"OC_OD\", \"OC_DC\", \"OC_DO\", \"OC_DD\"],\n",
    "                      [\"CO_CC\", \"CO_OC\", \"CO_CO\", \"CO_OO\", \"CO_CD\", \"CO_OD\", \"CO_DC\", \"CO_DO\", \"CO_DD\"],\n",
    "                      [\"OO_CC\", \"OO_OC\", \"OO_CO\", \"OO_OO\", \"OO_CD\", \"OO_OD\", \"OO_DC\", \"OO_DO\", \"OO_DD\"],\n",
    "                      [\"CD_CC\", \"CD_OC\", \"CD_CO\", \"CD_OO\", \"CD_CD\", \"CD_OD\", \"CD_DC\", \"CD_DO\", \"CD_DD\"],\n",
    "                      [\"OD_CC\", \"OD_OC\", \"OD_CO\", \"OD_OO\", \"OD_CD\", \"OD_OD\", \"OD_DC\", \"OD_DO\", \"OD_DD\"],\n",
    "                      [\"DC_CC\", \"DC_OC\", \"DC_CO\", \"DC_OO\", \"DC_CD\", \"DC_OD\", \"DC_DC\", \"DC_DO\", \"DC_DD\"],\n",
    "                      [\"DO_CC\", \"DO_OC\", \"DO_CO\", \"DO_OO\", \"DO_CD\", \"DO_OD\", \"DO_DC\", \"DO_DO\", \"DO_DD\"],\n",
    "                      [\"DD_CC\", \"DD_OC\", \"DD_CO\", \"DD_OO\", \"DD_CD\", \"DD_OD\", \"DD_DC\", \"DD_DO\", \"DD_DD\"],\n",
    "                     ]\n",
    "\n",
    "    # Probabilities matrix (transition matrix)\n",
    "    transitionMatrix = [[0.6, 0.2, 0.2, 0.0, 0.0, 0.0, 0.0, 0.0, 0.0],  #CC\n",
    "                        [0.1, 0.3, 0.0, 0.6, 0.0, 0.0, 0.0, 0.0, 0.0],  #OC\n",
    "                        [0.1, 0.0, 0.3, 0.6, 0.0, 0.0, 0.0, 0.0, 0.0],  #CO\n",
    "                        [0.0, 0.1, 0.1, 0.4, 0.0, 0.2, 0.0, 0.2, 0.0],  #OO\n",
    "                        [0.2, 0.0, 0.1, 0.0, 0.2, 0.1, 0.0, 0.0, 0.4],  #CD\n",
    "                        [0.0, 0.3, 0.0, 0.1, 0.2, 0.2, 0.0, 0.0, 0.2],  #OD\n",
    "                        [0.2, 0.1, 0.0, 0.0, 0.0, 0.0, 0.2, 0.1, 0.4],  #DC\n",
    "                        [0.0, 0.0, 0.3, 0.1, 0.0, 0.0, 0.2, 0.2, 0.2],  #DO\n",
    "                        [0.0, 0.0, 0.0, 0.0, 0.15, 0.1, 0.15, 0.1, 0.5] #DD\n",
    "                       ]"
   ]
  },
  {
   "cell_type": "code",
   "execution_count": null,
   "id": "8191607f-11e8-49e1-8972-81be5ba8fe66",
   "metadata": {},
   "outputs": [],
   "source": [
    "glic_dimer = Dimer(0)"
   ]
  },
  {
   "cell_type": "code",
   "execution_count": null,
   "id": "8209a6e3-5713-45f4-a7e7-9767072b205a",
   "metadata": {},
   "outputs": [],
   "source": [
    "glic_dimer.run(50000)"
   ]
  },
  {
   "cell_type": "code",
   "execution_count": 236,
   "id": "3b84ba78",
   "metadata": {},
   "outputs": [
    {
     "data": {
      "image/png": "[encoded data removed]",
      "text/plain": [
       "<Figure size 576x576 with 1 Axes>"
      ]
     },
     "metadata": {},
     "output_type": "display_data"
    }
   ],
   "source": [
    "fig, ax = plt.subplots(figsize=(8,8))\n",
    "\n",
    "sns.heatmap(glic_dimer.transitionMatrix,\n",
    "            ax=ax,\n",
    "            xticklabels=glic_dimer.states,\n",
    "            yticklabels=glic_dimer.states,\n",
    "            annot=True,\n",
    "            cmap=\"Blues\",\n",
    "            cbar=False,\n",
    "            square=True,\n",
    "            linewidths=0.5,\n",
    "            )\n",
    "\n",
    "ax.set_xlabel(\"To\")\n",
    "ax.set_ylabel(\"From\")\n",
    "plt.savefig(\"assets/transition_matrix_dimer.pdf\", dpi=300, transparent=True)"
   ]
  },
  {
   "cell_type": "code",
   "execution_count": null,
   "id": "5963d677",
   "metadata": {},
   "outputs": [],
   "source": [
    "from typing import Optional, List\n",
    "from deeptime.util.data import TrajectoryDataset, TrajectoriesDataset\n",
    "\n",
    "class MultimerTrajectoriesDataset(TrajectoriesDataset):\n",
    "    def __init__(self, multimer: int, data: List[TrajectoryDataset]):\n",
    "        self.multimer = multimer\n",
    "        super().__init__(data)\n",
    "\n",
    "    @staticmethod\n",
    "    def from_numpy(lagtime, multimer, data: List[np.ndarray]):\n",
    "        assert isinstance(data, list)\n",
    "        assert len(data) > 0 and all(data[0].shape[1:] == x.shape[1:] for x in data), \"Shape mismatch!\"\n",
    "\n",
    "        data_new = []\n",
    "        total_shape = data[0].shape[1]\n",
    "        per_shape = int(total_shape / multimer)\n",
    "\n",
    "        for i in range(multimer):\n",
    "            data_new.extend(\n",
    "                [np.roll(traj.reshape(traj.shape[0], multimer, per_shape),\n",
    "                                                i, axis=1).reshape(traj.shape[0],total_shape)\n",
    "                for traj in data])\n",
    "        return MultimerTrajectoriesDataset(multimer, [TrajectoryDataset(lagtime, traj) for traj in data_new])"
   ]
  },
  {
   "cell_type": "code",
   "execution_count": null,
   "id": "d2e792c5",
   "metadata": {},
   "outputs": [],
   "source": [
    "from deeptime.util.data import TrajectoryDataset, TrajectoriesDataset\n",
    "\n",
    "data = [glic_dimer.trajectory.astype(np.float32)]\n",
    "dataset = MultimerTrajectoriesDataset.from_numpy(5, 2, data)"
   ]
  },
  {
   "cell_type": "code",
   "execution_count": null,
   "id": "c7bf6386",
   "metadata": {},
   "outputs": [],
   "source": [
    "from deeptime.decomposition import TICA\n",
    "\n",
    "tica = TICA(var_cutoff=None, lagtime=5)\n",
    "\n",
    "tica.fit(dataset)\n",
    "\n",
    "tica_output= tica.transform(dataset)\n",
    "tica_concatenated= np.concatenate(tica_output)\n",
    "\n",
    "tica_model_tica = tica.fetch_model()"
   ]
  },
  {
   "cell_type": "code",
   "execution_count": null,
   "id": "4983228d",
   "metadata": {},
   "outputs": [],
   "source": [
    "feature = dataset.trajectories[0]\n",
    "feature_transformed = tica.transform(feature)\n",
    "fig, axes = plt.subplots(1, 2, figsize=(16,8))\n",
    "sns.scatterplot(\n",
    "            x=feature_transformed[:, 0],\n",
    "            y=feature_transformed[:, 1],\n",
    "            hue=glic_dimer.trajectory_states,\n",
    "            s=50, alpha=1, ax=axes[0], legend=False)\n",
    "\n",
    "axes[0].set_xlabel(\"TIC 1\")\n",
    "axes[0].set_ylabel(\"TIC 2\")\n",
    "sns.scatterplot(\n",
    "            x=feature_transformed[:, 0],\n",
    "            y=feature_transformed[:, 3],\n",
    "            hue=glic_dimer.trajectory_states,\n",
    "            s=50, alpha=1, ax=axes[1])\n",
    "\n",
    "axes[1].set_xlabel(\"TIC 1\")\n",
    "axes[1].set_ylabel(\"TIC 3\")\n",
    "\n",
    "for ax in axes:\n",
    "    set_axis_boarder(ax)\n",
    "ax.legend(bbox_to_anchor=(1.05, 1), loc=2, borderaxespad=0.)\n",
    "plt.tight_layout()\n",
    "plt.savefig(\"assets/tica_dimer.pdf\", dpi=300, transparent=True)"
   ]
  },
  {
   "cell_type": "code",
   "execution_count": null,
   "id": "6088ec96",
   "metadata": {},
   "outputs": [],
   "source": [
    "for i in range(6):\n",
    "    fig, ax = plt.subplots(figsize=(6,1))\n",
    "    sns.heatmap(tica_model_tica.instantaneous_coefficients.T[i].reshape(1, -1),\n",
    "                ax=ax,\n",
    "                linewidths=0.5,\n",
    "                cbar=False,\n",
    "                xticklabels='',\n",
    "                yticklabels='',\n",
    "                vmax=1.5,\n",
    "                vmin=-1.5)\n",
    "    plt.savefig(f\"assets/dimer_tica_{i}.pdf\", dpi=300, transparent=True)"
   ]
  },
  {
   "cell_type": "code",
   "execution_count": null,
   "id": "fc1a622e",
   "metadata": {},
   "outputs": [],
   "source": [
    "from msm_a7_nachrs.tica.sym_tica import SymTICA\n",
    "\n",
    "symtica = SymTICA(symmetry_fold=2, var_cutoff=0.8, lagtime=5, scaling=None)\n",
    "\n",
    "symtica.fit(dataset)\n",
    "\n",
    "symtica_output= symtica.transform(dataset.trajectories[0])\n",
    "symtica_concatenated= np.concatenate(symtica_output)"
   ]
  },
  {
   "cell_type": "code",
   "execution_count": null,
   "id": "1b5c5a6c",
   "metadata": {},
   "outputs": [],
   "source": [
    "symtica_model_tica = symtica.fetch_model()"
   ]
  },
  {
   "cell_type": "code",
   "execution_count": null,
   "id": "e9f8ea63",
   "metadata": {},
   "outputs": [],
   "source": [
    "feature = dataset.trajectories[0]\n",
    "feature_transformed = np.real(symtica.transform(feature))\n",
    "fig, ax = plt.subplots(1, 1, figsize=(8,8))\n",
    "sns.scatterplot(\n",
    "            x=feature_transformed[:, 0],\n",
    "            y=feature_transformed[:, 1],\n",
    "            hue=glic_dimer.trajectory_states,\n",
    "            s=50, alpha=1, ax=ax, legend=False)\n",
    "\n",
    "ax.set_xlabel(\"Sym TIC 1\")\n",
    "ax.set_ylabel(\"Sym TIC 2\")\n",
    "#plt.legend(loc='upper right')\n",
    "plt.tight_layout()\n",
    "set_axis_boarder(ax)\n",
    "plt.savefig(\"assets/dimer_sym_tica.pdf\", dpi=300, transparent=True)"
   ]
  },
  {
   "cell_type": "code",
   "execution_count": 237,
   "id": "3fa07148",
   "metadata": {},
   "outputs": [
    {
     "data": {
      "image/png": "[encoded data removed]",
      "text/plain": [
       "<Figure size 576x576 with 1 Axes>"
      ]
     },
     "metadata": {},
     "output_type": "display_data"
    },
    {
     "ename": "",
     "evalue": "",
     "output_type": "error",
     "traceback": [
      "\u001b[1;31mThe Kernel crashed while executing code in the the current cell or a previous cell. Please review the code in the cell(s) to identify a possible cause of the failure. Click <a href='https://aka.ms/vscodeJupyterKernelCrash'>here</a> for more info. View Jupyter <a href='command:jupyter.viewOutput'>log</a> for further details."
     ]
    }
   ],
   "source": [
    "fig, ax = plt.subplots(figsize=(8,8))\n",
    "n_timescales=100\n",
    "\n",
    "ax.plot(np.arange(1, tica_model_tica.timescales(k=n_timescales).shape[0]+1),\n",
    "        tica_model_tica.timescales(k=n_timescales),\n",
    "             marker='o',\n",
    "             linestyle='-',\n",
    "             linewidth=4,\n",
    "             color='blue',\n",
    "             markersize=7,\n",
    "             markeredgecolor='white',\n",
    "             label='TICA')\n",
    "ax.plot(np.arange(1, symtica_model_tica.timescales(k=n_timescales).shape[0]+1),\n",
    "             symtica_model_tica.timescales(k=n_timescales),\n",
    "             marker='*',\n",
    "             linestyle='--',\n",
    "             linewidth=4,\n",
    "             color='red',\n",
    "             markersize=15,\n",
    "             markeredgecolor='white',\n",
    "            label='SymTICA')\n",
    "\n",
    "\n",
    "ax.set_ylabel('Timescales (steps)')\n",
    "ax.set_xlabel('Timescale index')\n",
    "set_axis_boarder(ax)\n",
    "plt.legend(loc='upper right')\n",
    "plt.tight_layout()\n",
    "plt.savefig(\"assets/dimer_timescales.pdf\", dpi=300, transparent=True)"
   ]
  },
  {
   "cell_type": "code",
   "execution_count": null,
   "id": "8a8116c0",
   "metadata": {},
   "outputs": [],
   "source": [
    "from deeptime.clustering import KMeans, RegularSpace\n",
    "\n",
    "kmean = KMeans(\n",
    "                n_clusters=6,\n",
    "                init_strategy='kmeans++',\n",
    "                max_iter=300,\n",
    "                n_jobs=24,\n",
    "                progress=tqdm)"
   ]
  },
  {
   "cell_type": "code",
   "execution_count": null,
   "id": "97d2e38f",
   "metadata": {},
   "outputs": [],
   "source": [
    "cluster = kmean.fit(symtica_output).fetch_model()"
   ]
  },
  {
   "cell_type": "code",
   "execution_count": null,
   "id": "e8b7dd00-cdf3-4cb0-bb55-fe7b2294fb11",
   "metadata": {
    "scrolled": true
   },
   "outputs": [],
   "source": [
    "dtrajs = cluster.transform(symtica_output)"
   ]
  },
  {
   "cell_type": "code",
   "execution_count": null,
   "id": "57b88830-efed-4ce6-93e5-4092ae793882",
   "metadata": {},
   "outputs": [],
   "source": [
    "its = pyemma.msm.its(dtrajs, lags=10, nits=10, errors='bayes')\n",
    "pyemma.plots.plot_implied_timescales(its, units='step', dt=1);"
   ]
  },
  {
   "cell_type": "code",
   "execution_count": null,
   "id": "2310fc19",
   "metadata": {},
   "outputs": [],
   "source": [
    "from deeptime.markov import TransitionCountEstimator\n",
    "lag = 5\n",
    "from deeptime.markov.msm import BayesianMSM, MaximumLikelihoodMSM\n",
    "\n",
    "counts = TransitionCountEstimator(lagtime=lag,\n",
    "                                        count_mode='effective').fit_fetch(dtrajs)\n",
    "msm = BayesianMSM(n_samples=100).fit(counts)\n",
    "\n",
    "msm_model = msm.fetch_model()\n",
    "\n",
    "from deeptime.markov.tools.analysis import stationary_distribution\n",
    "\n",
    "pi_samples = []\n",
    "traj_weights_samples = []\n",
    "for sample in msm_model.samples:\n",
    "    pi_samples.append(stationary_distribution(sample.transition_matrix))\n",
    "    traj_weights_samples.append(sample.compute_trajectory_weights(dtrajs))\n",
    "\n",
    "pi_samples = np.array(pi_samples, dtype=object)\n",
    "traj_weights_samples = np.array(traj_weights_samples, dtype=object)\n",
    "\n",
    "stationary_distribution = np.mean(pi_samples, axis=0)\n",
    "pi = stationary_distribution\n",
    "trajectory_weights = np.mean(traj_weights_samples, axis=0)"
   ]
  },
  {
   "cell_type": "code",
   "execution_count": null,
   "id": "7d023126",
   "metadata": {},
   "outputs": [],
   "source": [
    "n_states = 6\n",
    "\n",
    "lagtimes = np.arange(1, 7+1) * lag\n",
    "\n",
    "print('Estimating lagtimes', lagtimes)\n",
    "\n",
    "models = []\n",
    "for lagtime in tqdm(lagtimes, desc='lagtime', total=len(lagtimes)):\n",
    "    counts = TransitionCountEstimator(lagtime=lagtime, count_mode='effective').fit_fetch(dtrajs)\n",
    "    models.append(BayesianMSM(n_samples=100).fit_fetch(counts))\n",
    "\n",
    "ck_test = models[0].ck_test(models, n_states, progress=tqdm)"
   ]
  },
  {
   "cell_type": "code",
   "execution_count": null,
   "id": "94fd56f9",
   "metadata": {},
   "outputs": [],
   "source": [
    "from deeptime.plots import plot_implied_timescales, plot_ck_test\n",
    "\n",
    "plot_ck_test(ck_test)"
   ]
  },
  {
   "cell_type": "code",
   "execution_count": null,
   "id": "c0ea1a26",
   "metadata": {},
   "outputs": [],
   "source": [
    "pcca = msm_model.prior.pcca(n_states)"
   ]
  },
  {
   "cell_type": "code",
   "execution_count": null,
   "id": "715842a7",
   "metadata": {},
   "outputs": [],
   "source": [
    "transition_mean = msm_model.gather_stats('transition_matrix').mean"
   ]
  },
  {
   "cell_type": "code",
   "execution_count": null,
   "id": "9adebe85",
   "metadata": {},
   "outputs": [],
   "source": [
    "transition_mean = msm_model.gather_stats('transition_matrix').std"
   ]
  },
  {
   "cell_type": "code",
   "execution_count": null,
   "id": "09577e28",
   "metadata": {},
   "outputs": [],
   "source": [
    "degenerate_states = ['CC', 'CO\\nOC', 'OO', 'OD\\nDO', 'CD\\nDC', 'DD']\n",
    "fig, ax = plt.subplots(figsize=(8,8))\n",
    "\n",
    "sns.heatmap(transition_mean[[4,0,2,3,5,1],\n",
    "                                  :][:,\n",
    "                                     [4,0,2,3,5,1]],\n",
    "            ax=ax,\n",
    "            xticklabels=degenerate_states,\n",
    "            yticklabels=degenerate_states,\n",
    "            annot=True,\n",
    "            cmap=\"Blues\",\n",
    "            cbar=False,\n",
    "            square=True,\n",
    "            linewidths=0.5,\n",
    "            fmt=\".2f\",\n",
    "            )\n",
    "\n",
    "ax.set_xlabel(\"From\")\n",
    "ax.set_ylabel(\"To\")\n",
    "plt.savefig(\"assets/transition_matrix_dimer_msm.pdf\", dpi=300, transparent=True)"
   ]
  },
  {
   "cell_type": "code",
   "execution_count": null,
   "id": "5ebeffce",
   "metadata": {},
   "outputs": [],
   "source": []
  },
  {
   "cell_type": "code",
   "execution_count": null,
   "id": "dfe9d8b8-ef76-4b23-9886-729c10778914",
   "metadata": {},
   "outputs": [],
   "source": [
    "metastable_traj = msm.metastable_assignments[dtrajs_concatenated]\n",
    "highest_membership = msm.metastable_distributions.argmax(1)\n",
    "coarse_state_centers = cluster.clustercenters[msm.active_set[highest_membership]]"
   ]
  },
  {
   "cell_type": "code",
   "execution_count": null,
   "id": "385fe894-3582-43bc-a8e2-f8bb79a02645",
   "metadata": {},
   "outputs": [],
   "source": [
    "mfpt = np.zeros((nstates, nstates))\n",
    "for i in range(nstates):\n",
    "    for j in range(nstates):\n",
    "        mfpt[i, j] = msm.mfpt(\n",
    "            msm.metastable_sets[i],\n",
    "            msm.metastable_sets[j])\n",
    "\n",
    "inverse_mfpt = np.zeros_like(mfpt)\n",
    "nz = mfpt.nonzero()\n",
    "inverse_mfpt[nz] = 1.0 / mfpt[nz]"
   ]
  },
  {
   "cell_type": "code",
   "execution_count": null,
   "id": "8535161d-ef9c-4ed6-8b12-66ff869f133b",
   "metadata": {},
   "outputs": [],
   "source": [
    "fig, ax = plt.subplots(figsize=(10, 7))\n",
    "_, _, misc = pyemma.plots.plot_state_map(\n",
    "    *symtica_output[:, :2].T, metastable_traj, ax=ax, zorder=-1)\n",
    "misc['cbar'].set_ticklabels(range(1, nstates + 1))  # set state numbers 1 ... nstates\n",
    "\n",
    "pyemma.plots.plot_network(\n",
    "    inverse_mfpt,\n",
    "    pos=coarse_state_centers,\n",
    "    figpadding=0,\n",
    "    arrow_label_format='%.1f step',\n",
    "    arrow_labels=mfpt,\n",
    "    size=10,\n",
    "    show_frame=True,\n",
    "    state_labels=['1','2','3','4', '5', '6'],\n",
    "    ax=ax)\n",
    "\n",
    "fig.tight_layout()"
   ]
  },
  {
   "cell_type": "code",
   "execution_count": null,
   "id": "59048944",
   "metadata": {},
   "outputs": [],
   "source": [
    "degenerate_states = ['CC', 'CO\\nOC', 'OO', 'OD\\nDO', 'CD\\nDC', 'DD']\n",
    "fig, ax = plt.subplots(figsize=(8,8))\n",
    "\n",
    "sns.heatmap(msm.transition_matrix[[4,0,2,3,5,1],\n",
    "                                  :][:,\n",
    "                                     [4,0,2,3,5,1]],\n",
    "            ax=ax,\n",
    "            xticklabels=degenerate_states,\n",
    "            yticklabels=degenerate_states,\n",
    "            annot=True,\n",
    "            cmap=\"Blues\",\n",
    "            cbar=False,\n",
    "            square=True,\n",
    "            linewidths=0.5,\n",
    "            fmt=\".2f\",\n",
    "            )\n",
    "\n",
    "ax.set_xlabel(\"From\")\n",
    "ax.set_ylabel(\"To\")\n",
    "plt.savefig(\"assets/transition_matrix_dimer_msm.pdf\", dpi=300, transparent=True)"
   ]
  }
 ],
 "metadata": {
  "kernelspec": {
   "display_name": "deeplearning",
   "language": "python",
   "name": "deeplearning"
  },
  "language_info": {
   "codemirror_mode": {
    "name": "ipython",
    "version": 3
   },
   "file_extension": ".py",
   "mimetype": "text/x-python",
   "name": "python",
   "nbconvert_exporter": "python",
   "pygments_lexer": "ipython3",
   "version": "3.9.0"
  },
  "vscode": {
   "interpreter": {
    "hash": "2e29128a06f8dfec3d7988e50b626f4f97878843389a09f4ed3b437193488904"
   }
  }
 },
 "nbformat": 4,
 "nbformat_minor": 5
}
